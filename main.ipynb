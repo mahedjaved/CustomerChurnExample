{
 "cells": [
  {
   "cell_type": "markdown",
   "metadata": {},
   "source": [
    "* Love the ambience on this : https://www.youtube.com/watch?v=KemRxx-DrQg\n",
    "\n",
    "* Great discussion on outliers and tests used to detect them : https://www.kaggle.com/code/nareshbhat/outlier-the-silent-killer\n",
    "\n",
    "* The importance of ChatBots for customer churning : https://servisbot.com/reduce-customer-churn-with-a-win-back-bot-strategy/\n",
    "\n",
    "* ChatGP3 for marketing and customer service : https://www.youtube.com/watch?v=D6rc0o-jvnI\n",
    "\n",
    "* You can check OpenAI publications from here : https://openai.com/research/\n",
    "\n",
    "* List of DL based projects for customer churning : https://github.com/topics/customer-churn-prediction"
   ]
  },
  {
   "cell_type": "markdown",
   "metadata": {},
   "source": [
    "# Info on the Dataset : Telco Customer Chain"
   ]
  },
  {
   "cell_type": "markdown",
   "metadata": {},
   "source": [
    "* The main aim is to develop `successfull` and `focused` $\\rightarrow$ customer `retention` programmes\n",
    "\n",
    "* Each row $\\rightarrow$ customer id (which customer)\n",
    "\n",
    "* Each column $\\rightarrow$ customer attributes\n",
    "\n",
    "* The column `Churn` $\\rightarrow$ customer who left within `last month`"
   ]
  },
  {
   "cell_type": "markdown",
   "metadata": {},
   "source": [
    "# Short Background in Customer Churning"
   ]
  },
  {
   "cell_type": "markdown",
   "metadata": {},
   "source": [
    "* Client stops doing business with an entity\n",
    "\n",
    "* May stop using the company's service"
   ]
  }
 ],
 "metadata": {
  "kernelspec": {
   "display_name": "Python 3.8.15 ('qatar22')",
   "language": "python",
   "name": "python3"
  },
  "language_info": {
   "name": "python",
   "version": "3.8.15"
  },
  "orig_nbformat": 4,
  "vscode": {
   "interpreter": {
    "hash": "6559c90cde25a23ba7c0922495f3625853a3f5a122e6f77d8b89b4864ab129f4"
   }
  }
 },
 "nbformat": 4,
 "nbformat_minor": 2
}
