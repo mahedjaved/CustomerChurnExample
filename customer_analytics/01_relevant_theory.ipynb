{
 "cells": [
  {
   "cell_type": "markdown",
   "metadata": {},
   "source": [
    "# 0. Whats in this Section ?"
   ]
  },
  {
   "cell_type": "markdown",
   "metadata": {},
   "source": [
    "* Discuss the `STP` Framework\n",
    "    * Segementation\n",
    "    * Targetting\n",
    "    * Framework\n",
    "    \n",
    "* Discuss the 4 `Ps` of marketing\n",
    "    * Product\n",
    "    * Price\n",
    "    * Promotion\n",
    "    * Place"
   ]
  },
  {
   "cell_type": "markdown",
   "metadata": {},
   "source": [
    "# 1. Basic Principles of Customer Analysis"
   ]
  },
  {
   "cell_type": "markdown",
   "metadata": {},
   "source": [
    "* The term to always keep in mind is `KYC` Always Know Your Customer\n",
    "* Allows us to `tailor` products, offers according to `customer needs`\n",
    "* Retails oftenly use `B2C` models $\\rightarrow$ meaning the clients are individual people rather than firms\n",
    "* B2C benefits data science since we have more `datapoints` available since firms may restrict access to some of their services\n",
    "* The data comes from `FMCG` Fast Moving Consumer Goods company\n",
    "* Meaning data is being collected real-time every day which again is beneficial from the point of view of data science"
   ]
  },
  {
   "cell_type": "markdown",
   "metadata": {},
   "source": [
    "# 2. What is the STP Framework ?"
   ]
  },
  {
   "cell_type": "markdown",
   "metadata": {},
   "source": [
    "* Consists of three `consecutive` steps\n",
    "---\n",
    "* **Segmentation**\n",
    "    * Is similar in spirit to `clustering`\n",
    "    * I.e. here we are trying to `group` customers with `similar characteristics`\n",
    "    * With similar, for example, `purchase behaviours`\n",
    "    * These will then respond similarly to lets say an offer or a customer retention programme\n",
    "    * We could segment our customers by `overlapping characteristics` such as *income, age and gender* such that we know that their e.g. purchase habits might be very similar in nature\n",
    "---\n",
    "* **Target**\n",
    "\n",
    "---\n",
    "* **Positioning**"
   ]
  },
  {
   "cell_type": "markdown",
   "metadata": {},
   "source": []
  },
  {
   "cell_type": "markdown",
   "metadata": {},
   "source": []
  },
  {
   "cell_type": "markdown",
   "metadata": {},
   "source": []
  },
  {
   "cell_type": "markdown",
   "metadata": {},
   "source": []
  },
  {
   "cell_type": "markdown",
   "metadata": {},
   "source": []
  },
  {
   "cell_type": "markdown",
   "metadata": {},
   "source": []
  }
 ],
 "metadata": {
  "kernelspec": {
   "display_name": "Python 3.8.15 ('qatar22')",
   "language": "python",
   "name": "python3"
  },
  "language_info": {
   "name": "python",
   "version": "3.8.15"
  },
  "orig_nbformat": 4,
  "vscode": {
   "interpreter": {
    "hash": "6559c90cde25a23ba7c0922495f3625853a3f5a122e6f77d8b89b4864ab129f4"
   }
  }
 },
 "nbformat": 4,
 "nbformat_minor": 2
}
